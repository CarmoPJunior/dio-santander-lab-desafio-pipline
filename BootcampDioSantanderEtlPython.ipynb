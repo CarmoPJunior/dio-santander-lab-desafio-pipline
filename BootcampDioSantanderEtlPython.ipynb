{
 "cells": [
  {
   "cell_type": "markdown",
   "id": "79ff9c35",
   "metadata": {},
   "source": [
    "# Bootcamp DIO - Santander 2023 (ETL com Python)"
   ]
  },
  {
   "cell_type": "markdown",
   "id": "d7eba522",
   "metadata": {},
   "source": [
    "**Objetivo:** \n",
    "\n",
    "Esse projeto visa colocar em prática o conteúdo aprendido no bootcamp da DIO Santader 2023 sobre ETL com Python.\n",
    "Para isso vou utilizar a API de previsão do tempo do INPE, para obter os dados de previsão do tempo para os próximos 4 dias de cada cidade que se encontra no arquivo csv.\n",
    "\n",
    "\n",
    "**Passos a serem executados:**\n",
    "\n",
    "1. Ler a planilha em formato CSV ('codCidades.csv'), com uma lista de cod das cidades :\n",
    "  ```\n",
    "cidade,cod\n",
    "São Paulo,244\n",
    "Salvador, 255\n",
    "  ```\n",
    "2. Consumir o endpoint de previsão do tempo do INPE`GET http://servicos.cptec.inpe.br/XML/cidade/{codCidade}/previsao.xml` para obter os dados de previsão do tempo para os próximos 4 dias de cada cidade.\n",
    "3. Depois vou tratar as informações obtidas da API do INPE.\n",
    "4. Gravar as informações em um arquivo csv no formato abaixo:\n",
    "  ```\n",
    "Cidade,Data,Tempo,Máxima,Mínima\n",
    "São Paulo,25/08/2023,pn,21,16,8.0\n",
    "São Paulo,26/08/2023,c,17,13,8.0\n",
    "São Paulo,27/08/2023,c,16,12,8.0\n",
    "São Paulo,28/08/2023,pn,16,12,8.0\n",
    "  ```"
   ]
  },
  {
   "cell_type": "markdown",
   "id": "5bdc2969-3d56-4aa4-8c3c-5079c6146e62",
   "metadata": {
    "tags": []
   },
   "source": [
    "## Importa as bibliotecas\n",
    "\n",
    "Importa as bibliotecas a serem usadas no projeto"
   ]
  },
  {
   "cell_type": "code",
   "execution_count": 11,
   "id": "02b23f34",
   "metadata": {},
   "outputs": [],
   "source": [
    "import pandas as pd\n",
    "import requests\n",
    "import csv\n",
    "import xml.etree.ElementTree as ET\n",
    "from datetime import datetime"
   ]
  },
  {
   "cell_type": "markdown",
   "id": "0448a5f1-129e-4acd-9ce9-d56246b0aa19",
   "metadata": {
    "jp-MarkdownHeadingCollapsed": true,
    "tags": []
   },
   "source": [
    "## **E**xtract\n",
    "\n",
    "Extraia a lista com os códigos das cidades a serem pesquisadas"
   ]
  },
  {
   "cell_type": "code",
   "execution_count": 12,
   "id": "323e4f7e",
   "metadata": {},
   "outputs": [
    {
     "name": "stdout",
     "output_type": "stream",
     "text": [
      "[244, 242, 241]\n"
     ]
    }
   ],
   "source": [
    "df = pd.read_csv('codCidades.csv')\n",
    "cod_cidades = df['cod'].tolist()\n",
    "print(cod_cidades)"
   ]
  },
  {
   "cell_type": "code",
   "execution_count": 13,
   "id": "bb148209",
   "metadata": {},
   "outputs": [
    {
     "name": "stdout",
     "output_type": "stream",
     "text": [
      "[b\"<?xml version='1.0' encoding='ISO-8859-1'?><cidade><nome>S\\xe3o Paulo</nome><uf>SP</uf><atualizacao>2023-08-24</atualizacao><previsao><dia>2023-08-25</dia><tempo>pn</tempo><maxima>21</maxima><minima>16</minima><iuv>8.0</iuv></previsao><previsao><dia>2023-08-26</dia><tempo>c</tempo><maxima>17</maxima><minima>13</minima><iuv>8.0</iuv></previsao><previsao><dia>2023-08-27</dia><tempo>c</tempo><maxima>16</maxima><minima>12</minima><iuv>8.0</iuv></previsao><previsao><dia>2023-08-28</dia><tempo>pn</tempo><maxima>16</maxima><minima>12</minima><iuv>8.0</iuv></previsao></cidade>\", b\"<?xml version='1.0' encoding='ISO-8859-1'?><cidade><nome>Salvador</nome><uf>BA</uf><atualizacao>2023-08-24</atualizacao><previsao><dia>2023-08-25</dia><tempo>pn</tempo><maxima>31</maxima><minima>23</minima><iuv>9.0</iuv></previsao><previsao><dia>2023-08-26</dia><tempo>pn</tempo><maxima>32</maxima><minima>22</minima><iuv>9.0</iuv></previsao><previsao><dia>2023-08-27</dia><tempo>pn</tempo><maxima>31</maxima><minima>22</minima><iuv>10.0</iuv></previsao><previsao><dia>2023-08-28</dia><tempo>pn</tempo><maxima>31</maxima><minima>22</minima><iuv>10.0</iuv></previsao></cidade>\", b\"<?xml version='1.0' encoding='ISO-8859-1'?><cidade><nome>Rio de Janeiro</nome><uf>RJ</uf><atualizacao>2023-08-24</atualizacao><previsao><dia>2023-08-25</dia><tempo>ci</tempo><maxima>25</maxima><minima>21</minima><iuv>7.0</iuv></previsao><previsao><dia>2023-08-26</dia><tempo>c</tempo><maxima>22</maxima><minima>19</minima><iuv>8.0</iuv></previsao><previsao><dia>2023-08-27</dia><tempo>c</tempo><maxima>20</maxima><minima>16</minima><iuv>8.0</iuv></previsao><previsao><dia>2023-08-28</dia><tempo>c</tempo><maxima>20</maxima><minima>16</minima><iuv>8.0</iuv></previsao></cidade>\"]\n"
     ]
    }
   ],
   "source": [
    "# Url da api do INPE\n",
    "inpe_api_url = 'http://servicos.cptec.inpe.br/XML'\n",
    "\n",
    "def obter_previsao(cod_cidade):\n",
    "    response = requests.get(f'{inpe_api_url}/cidade/{cod_cidade}/previsao.xml')    \n",
    "    return response.content if response.status_code == 200 else None\n",
    "\n",
    "\n",
    "xmls_content = [data for cod in cod_cidades if (data := obter_previsao(cod)) is not None]\n",
    "print(xmls_content)"
   ]
  },
  {
   "cell_type": "markdown",
   "id": "6204e40e",
   "metadata": {},
   "source": [
    "## **T**ransform\n",
    "\n",
    "Trata as informações obtidas da Api do INPE."
   ]
  },
  {
   "cell_type": "code",
   "execution_count": 14,
   "id": "60a448b6",
   "metadata": {},
   "outputs": [
    {
     "name": "stdout",
     "output_type": "stream",
     "text": [
      "[[['São Paulo', '25/08/2023', 'pn', '21', '16', '8.0'], ['São Paulo', '26/08/2023', 'c', '17', '13', '8.0'], ['São Paulo', '27/08/2023', 'c', '16', '12', '8.0'], ['São Paulo', '28/08/2023', 'pn', '16', '12', '8.0']], [['Salvador', '25/08/2023', 'pn', '31', '23', '9.0'], ['Salvador', '26/08/2023', 'pn', '32', '22', '9.0'], ['Salvador', '27/08/2023', 'pn', '31', '22', '10.0'], ['Salvador', '28/08/2023', 'pn', '31', '22', '10.0']], [['Rio de Janeiro', '25/08/2023', 'ci', '25', '21', '7.0'], ['Rio de Janeiro', '26/08/2023', 'c', '22', '19', '8.0'], ['Rio de Janeiro', '27/08/2023', 'c', '20', '16', '8.0'], ['Rio de Janeiro', '28/08/2023', 'c', '20', '16', '8.0']]]\n"
     ]
    }
   ],
   "source": [
    "def formata_data(data_original):\n",
    "    data_obj = datetime.strptime(data_original, \"%Y-%m-%d\")\n",
    "    return data_obj.strftime(\"%d/%m/%Y\")\n",
    "\n",
    "def trata_dados_xml(xml_content):\n",
    "    \n",
    "    previsoes = []\n",
    "\n",
    "    root = ET.fromstring(xml_content)\n",
    "\n",
    "    # Pega o nome da cidade\n",
    "    nome_cidade = root.find(\"nome\").text\n",
    "    \n",
    "    #Obtém as previsões do tempo da cidade\n",
    "    for previsao_element in root.findall(\"previsao\"):\n",
    "   \n",
    "        data = formata_data(previsao_element.find(\"dia\").text)\n",
    "        tempo = previsao_element.find(\"tempo\").text\n",
    "        maxima = previsao_element.find(\"maxima\").text\n",
    "        minima = previsao_element.find(\"minima\").text\n",
    "        iuv = previsao_element.find(\"iuv\").text\n",
    "    \n",
    "        previsao = [nome_cidade, data, tempo, maxima, minima, iuv]   \n",
    "        previsoes.append(previsao)\n",
    "\n",
    "    return previsoes\n",
    "\n",
    "\n",
    "previsoes_dict = [data for xml in xmls_content if (data := trata_dados_xml(xml)) is not None]\n",
    "print(previsoes_dict)"
   ]
  },
  {
   "cell_type": "markdown",
   "id": "5ee02260",
   "metadata": {},
   "source": [
    "## **L**oad\n",
    "\n",
    "Salva as informações das previsões do tempo das cidades em um arquivo csv ."
   ]
  },
  {
   "cell_type": "code",
   "execution_count": 15,
   "id": "8a50da39",
   "metadata": {},
   "outputs": [
    {
     "name": "stdout",
     "output_type": "stream",
     "text": [
      "Arquivo CSV salvo com sucesso!\n"
     ]
    }
   ],
   "source": [
    "with open(\"previsoes.csv\", \"w\", newline=\"\", encoding=\"utf-8\") as csvfile:\n",
    "    writer = csv.writer(csvfile)\n",
    "    \n",
    "    # Adicionar o cabeçalho ao CSV\n",
    "    cabecalho = [\"Cidade\", \"Data\", \"Tempo\", \"Máxima\", \"Mínima\"]\n",
    "    writer.writerow(cabecalho)\n",
    "    \n",
    "    # Adicionar os dados\n",
    "    for previsao_list in previsoes_dict:\n",
    "        for linha in previsao_list:\n",
    "            writer.writerow(linha)\n",
    "\n",
    "print(\"Arquivo CSV salvo com sucesso!\")"
   ]
  }
 ],
 "metadata": {
  "kernelspec": {
   "display_name": "venv",
   "language": "python",
   "name": "python3"
  },
  "language_info": {
   "codemirror_mode": {
    "name": "ipython",
    "version": 3
   },
   "file_extension": ".py",
   "mimetype": "text/x-python",
   "name": "python",
   "nbconvert_exporter": "python",
   "pygments_lexer": "ipython3",
   "version": "3.10.0"
  },
  "vscode": {
   "interpreter": {
    "hash": "4c42030ab5540aa1f6929d70a4182c9a04f7b4c10a08427d207e2fc16fc30309"
   }
  }
 },
 "nbformat": 4,
 "nbformat_minor": 5
}
